{
 "cells": [
  {
   "cell_type": "markdown",
   "id": "975a1cfe-18cb-4257-9193-afc8f03fef71",
   "metadata": {},
   "source": [
    "# Basic File\n",
    "## Matvei Karp\n",
    "02/15/2025"
   ]
  },
  {
   "cell_type": "markdown",
   "id": "cc87e6e2-5e71-4535-a744-a6c6a3688da2",
   "metadata": {},
   "source": [
    "## Imports"
   ]
  },
  {
   "cell_type": "markdown",
   "id": "05967dc4-4978-4b3c-9f98-cd0ceb1a4629",
   "metadata": {},
   "source": [
    "### Importing Qiskit"
   ]
  },
  {
   "cell_type": "markdown",
   "id": "8b0d3818-ae80-42d6-89b1-2dd2f2255b27",
   "metadata": {},
   "source": [
    "Qiskit Itself"
   ]
  },
  {
   "cell_type": "code",
   "execution_count": 1,
   "id": "51a4b322-67b8-428d-81f6-ee365c0cac56",
   "metadata": {},
   "outputs": [],
   "source": [
    "from qiskit import *"
   ]
  },
  {
   "cell_type": "markdown",
   "id": "53ed32d3-126e-4a50-8e66-c67b285b64f4",
   "metadata": {},
   "source": [
    "Visualisations"
   ]
  },
  {
   "cell_type": "code",
   "execution_count": 2,
   "id": "15737183-5e59-495f-ae3c-0c5f9ca5fe71",
   "metadata": {},
   "outputs": [],
   "source": [
    "from qiskit.visualization import plot_bloch_multivector\n",
    "from qiskit.visualization import plot_histogram"
   ]
  },
  {
   "cell_type": "markdown",
   "id": "7079c577-d11b-42db-b151-f43b9c4b5a73",
   "metadata": {},
   "source": [
    "Simulators"
   ]
  },
  {
   "cell_type": "code",
   "execution_count": 3,
   "id": "be8c4540-4905-425c-b05e-478c3468b5b4",
   "metadata": {},
   "outputs": [],
   "source": [
    "from qiskit_aer import AerSimulator\n",
    "from qiskit_ibm_runtime import QiskitRuntimeService"
   ]
  },
  {
   "cell_type": "markdown",
   "id": "300de07c-85ca-46ce-beec-96bd29df5947",
   "metadata": {},
   "source": [
    "### Importing Other Useful Libraries"
   ]
  },
  {
   "cell_type": "markdown",
   "id": "24709f76-d1af-4a95-85af-aecb9b98555d",
   "metadata": {},
   "source": [
    "Random\n",
    "\n",
    "*Python's random number package*"
   ]
  },
  {
   "cell_type": "code",
   "execution_count": 4,
   "id": "68d190a7-5b43-4caf-a579-8f99cc4bfb2d",
   "metadata": {},
   "outputs": [],
   "source": [
    "import random as r"
   ]
  },
  {
   "cell_type": "markdown",
   "id": "82c80025-71e0-4796-aed2-0fc87d227d47",
   "metadata": {},
   "source": [
    "Numpy\n",
    "\n",
    "*Python's scientific computing package*"
   ]
  },
  {
   "cell_type": "code",
   "execution_count": 5,
   "id": "6e6843ea-0b67-4c70-b57f-4169eb36c627",
   "metadata": {},
   "outputs": [],
   "source": [
    "import numpy as np"
   ]
  },
  {
   "cell_type": "markdown",
   "id": "ceeb1ea6-72fc-4397-bb5a-589b3b9fe4a6",
   "metadata": {},
   "source": [
    "## Display Functions"
   ]
  },
  {
   "cell_type": "markdown",
   "id": "f3e9e771-d4a4-47d7-a033-4d0ca3719ae9",
   "metadata": {},
   "source": [
    "### Histogram"
   ]
  },
  {
   "cell_type": "markdown",
   "id": "ec9c7174-31ac-438d-b881-b95ceaef78b7",
   "metadata": {},
   "source": [
    "executes the circuit in an ideal environment 1024 times and returns the results as a histogram\n",
    "\n",
    "    Parameters\n",
    "    ----------\n",
    "    circuit: QuantumCircuit\n",
    "        The circuit to be executed\n",
    "    Returns\n",
    "    -------\n",
    "    None"
   ]
  },
  {
   "cell_type": "code",
   "execution_count": 6,
   "id": "695d320e-29ab-40cb-9e90-cae845920ba5",
   "metadata": {},
   "outputs": [],
   "source": [
    "def histogram(circuit):\n",
    "    circ = circuit.copy()\n",
    "    aersim = AerSimulator()\n",
    "    circTranspiled = transpile(circ,aersim)\n",
    "    result_ideal = aersim.run(circTranspiled, shots=1024).result()\n",
    "    counts_ideal = result_ideal.get_counts(0)\n",
    "    plot_histogram(counts_ideal, title='Outputs')"
   ]
  },
  {
   "cell_type": "markdown",
   "id": "cdd72f7b-5e62-4efd-8454-b4b59552a2e3",
   "metadata": {},
   "source": [
    "### Bloch Sphere"
   ]
  },
  {
   "cell_type": "markdown",
   "id": "80448b54-e8cb-4b5a-8943-02fddfec7384",
   "metadata": {},
   "source": [
    "displays a bloch sphere of each qubit in the circuit\n",
    "\n",
    "    Parameters\n",
    "    ----------\n",
    "    circuit: QuantumCircuit\n",
    "        The circuit to be executed\n",
    "    Returns\n",
    "    -------\n",
    "    None"
   ]
  },
  {
   "cell_type": "code",
   "execution_count": 7,
   "id": "3000c5b3-9982-43a4-b64c-79be48e2e6e4",
   "metadata": {},
   "outputs": [],
   "source": [
    "def bloch(circuit):\n",
    "    state = Statevector(circuit)\n",
    "    plot_bloch_multivector(state)"
   ]
  },
  {
   "cell_type": "markdown",
   "id": "f4f81377-ad0e-4737-9ed9-0b59c8550312",
   "metadata": {},
   "source": [
    "## Main Workspace"
   ]
  },
  {
   "cell_type": "code",
   "execution_count": null,
   "id": "0f990ab1-4b9c-48ad-9d13-3c2fac65507b",
   "metadata": {},
   "outputs": [],
   "source": []
  }
 ],
 "metadata": {
  "kernelspec": {
   "display_name": "Python 3 [Qiskit 1.2.0]",
   "language": "python",
   "name": "python3_qiskit_9vrlwn"
  },
  "language_info": {
   "codemirror_mode": {
    "name": "ipython",
    "version": 3
   },
   "file_extension": ".py",
   "mimetype": "text/x-python",
   "name": "python",
   "nbconvert_exporter": "python",
   "pygments_lexer": "ipython3",
   "version": "3.11.9"
  }
 },
 "nbformat": 4,
 "nbformat_minor": 5
}
